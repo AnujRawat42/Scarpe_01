{
 "cells": [
  {
   "cell_type": "code",
   "execution_count": 6,
   "metadata": {},
   "outputs": [],
   "source": [
    "# importing all the libraries we need\n",
    "import time\n",
    "import pandas as pd \n",
    "from selenium.webdriver import Chrome\n",
    "from selenium.webdriver.common.by import By\n",
    "from selenium.webdriver.common.keys import Keys\n",
    "from selenium.webdriver.support.ui import WebDriverWait\n",
    "from selenium.webdriver.support import expected_conditions as EC"
   ]
  },
  {
   "cell_type": "code",
   "execution_count": 7,
   "metadata": {},
   "outputs": [
    {
     "name": "stderr",
     "output_type": "stream",
     "text": [
      "C:\\Users\\pc\\AppData\\Local\\Temp\\ipykernel_12528\\3743548059.py:4: DeprecationWarning: executable_path has been deprecated, please pass in a Service object\n",
      "  driver = Chrome(r'C:\\webdrivers\\chromedriver.exe') # Storing the path of my chromedriver\n"
     ]
    }
   ],
   "source": [
    "\n",
    "Names=[]\n",
    "comments=[]\n",
    "\n",
    "driver = Chrome(r'C:\\webdrivers\\chromedriver.exe') # Storing the path of my chromedriver\n",
    "wait = WebDriverWait(driver,10)                    # This waits up to 10 seconds before throwing a TimeoutException or if it finds the element will return it in 0 - 10 seconds\n",
    "driver.get(\"https://www.youtube.com/watch?v=uB5bf7LQPVU\")  # This opens the link in the browser\n",
    "\n",
    "for item in range(6): # Repeat for the range we want \n",
    "    wait.until(EC.visibility_of_element_located((By.TAG_NAME, \"body\"))).send_keys(Keys.END)  # To scroll down and wait until everything is visible \n",
    "    time.sleep(4)          # To Wait for 4 seconds to load the following content\n",
    "\n",
    "for users in wait.until(EC.presence_of_all_elements_located((By.CSS_SELECTOR, \"#author-text\"))):  # To scrape all the usernames by finding all #author-text elements\n",
    "    Names.append(users.text)\n",
    "            \n",
    "for comment in wait.until(EC.presence_of_all_elements_located((By.CSS_SELECTOR, \"#content-text\"))):  # To scrape all the comments by finding all #content-text elements\n",
    "    comments.append(comment.text)"
   ]
  },
  {
   "cell_type": "code",
   "execution_count": 8,
   "metadata": {},
   "outputs": [
    {
     "data": {
      "text/html": [
       "<div>\n",
       "<style scoped>\n",
       "    .dataframe tbody tr th:only-of-type {\n",
       "        vertical-align: middle;\n",
       "    }\n",
       "\n",
       "    .dataframe tbody tr th {\n",
       "        vertical-align: top;\n",
       "    }\n",
       "\n",
       "    .dataframe thead th {\n",
       "        text-align: right;\n",
       "    }\n",
       "</style>\n",
       "<table border=\"1\" class=\"dataframe\">\n",
       "  <thead>\n",
       "    <tr style=\"text-align: right;\">\n",
       "      <th></th>\n",
       "      <th>NAMES</th>\n",
       "      <th>Comments</th>\n",
       "    </tr>\n",
       "  </thead>\n",
       "  <tbody>\n",
       "    <tr>\n",
       "      <th>0</th>\n",
       "      <td>Tafhim Nazir</td>\n",
       "      <td>I saw a guy wake up at 4 o'clock in the mornin...</td>\n",
       "    </tr>\n",
       "    <tr>\n",
       "      <th>1</th>\n",
       "      <td>Nameer Osmani</td>\n",
       "      <td>It hits really different when he says,\\n\"KEHDO...</td>\n",
       "    </tr>\n",
       "    <tr>\n",
       "      <th>2</th>\n",
       "      <td>Ripon Basumatary</td>\n",
       "      <td>Will always regret I wasn't able to watch thes...</td>\n",
       "    </tr>\n",
       "    <tr>\n",
       "      <th>3</th>\n",
       "      <td>pornima amondkar</td>\n",
       "      <td>I had one negative memory attached to this son...</td>\n",
       "    </tr>\n",
       "    <tr>\n",
       "      <th>4</th>\n",
       "      <td>shivam</td>\n",
       "      <td>I fondly remember, we three young boys enjoyin...</td>\n",
       "    </tr>\n",
       "    <tr>\n",
       "      <th>...</th>\n",
       "      <td>...</td>\n",
       "      <td>...</td>\n",
       "    </tr>\n",
       "    <tr>\n",
       "      <th>115</th>\n",
       "      <td>Chiranjan Mv</td>\n",
       "      <td>Will definitely miss them  i can't believe the...</td>\n",
       "    </tr>\n",
       "    <tr>\n",
       "      <th>116</th>\n",
       "      <td>Shibam Dutta</td>\n",
       "      <td>10 years of this masterpiece ️</td>\n",
       "    </tr>\n",
       "    <tr>\n",
       "      <th>117</th>\n",
       "      <td>Gypsy Soul..</td>\n",
       "      <td>I am leaving my comment here.. Guys, let's kee...</td>\n",
       "    </tr>\n",
       "    <tr>\n",
       "      <th>118</th>\n",
       "      <td>Acoustic anu</td>\n",
       "      <td>A real master composition by the one and only ...</td>\n",
       "    </tr>\n",
       "    <tr>\n",
       "      <th>119</th>\n",
       "      <td>Muskan Princess</td>\n",
       "      <td>This is the most touching song to my heart I h...</td>\n",
       "    </tr>\n",
       "  </tbody>\n",
       "</table>\n",
       "<p>120 rows × 2 columns</p>\n",
       "</div>"
      ],
      "text/plain": [
       "                NAMES                                           Comments\n",
       "0        Tafhim Nazir  I saw a guy wake up at 4 o'clock in the mornin...\n",
       "1       Nameer Osmani  It hits really different when he says,\\n\"KEHDO...\n",
       "2    Ripon Basumatary  Will always regret I wasn't able to watch thes...\n",
       "3    pornima amondkar  I had one negative memory attached to this son...\n",
       "4              shivam  I fondly remember, we three young boys enjoyin...\n",
       "..                ...                                                ...\n",
       "115      Chiranjan Mv  Will definitely miss them  i can't believe the...\n",
       "116      Shibam Dutta                     10 years of this masterpiece ️\n",
       "117      Gypsy Soul..  I am leaving my comment here.. Guys, let's kee...\n",
       "118      Acoustic anu  A real master composition by the one and only ...\n",
       "119   Muskan Princess  This is the most touching song to my heart I h...\n",
       "\n",
       "[120 rows x 2 columns]"
      ]
     },
     "execution_count": 8,
     "metadata": {},
     "output_type": "execute_result"
    }
   ],
   "source": [
    "df=pd.DataFrame(data={\"NAMES\":Names,\"Comments\":comments}) # Converting our data into Dataframe\n",
    "df\n"
   ]
  },
  {
   "cell_type": "code",
   "execution_count": 9,
   "metadata": {},
   "outputs": [],
   "source": [
    "df.to_excel(\"comments.xlsx\")  # Saving the file into excel"
   ]
  }
 ],
 "metadata": {
  "kernelspec": {
   "display_name": "Python 3.10.5 ('minimal_ds')",
   "language": "python",
   "name": "python3"
  },
  "language_info": {
   "codemirror_mode": {
    "name": "ipython",
    "version": 3
   },
   "file_extension": ".py",
   "mimetype": "text/x-python",
   "name": "python",
   "nbconvert_exporter": "python",
   "pygments_lexer": "ipython3",
   "version": "3.10.5"
  },
  "orig_nbformat": 4,
  "vscode": {
   "interpreter": {
    "hash": "c48fb0f5e3406a864bc7ad978fcdc5f80b769cde260941063050599e021999d9"
   }
  }
 },
 "nbformat": 4,
 "nbformat_minor": 2
}
